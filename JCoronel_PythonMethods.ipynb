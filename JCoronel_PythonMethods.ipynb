{
  "nbformat": 4,
  "nbformat_minor": 0,
  "metadata": {
    "colab": {
      "provenance": [],
      "authorship_tag": "ABX9TyNd1TgLgyiGz2KCv9MWiAP9",
      "include_colab_link": true
    },
    "kernelspec": {
      "name": "python3",
      "display_name": "Python 3"
    },
    "language_info": {
      "name": "python"
    }
  },
  "cells": [
    {
      "cell_type": "markdown",
      "metadata": {
        "id": "view-in-github",
        "colab_type": "text"
      },
      "source": [
        "<a href=\"https://colab.research.google.com/github/JCoronelUSF/PythonMethods/blob/main/JCoronel_PythonMethods.ipynb\" target=\"_parent\"><img src=\"https://colab.research.google.com/assets/colab-badge.svg\" alt=\"Open In Colab\"/></a>"
      ]
    },
    {
      "cell_type": "code",
      "execution_count": 15,
      "metadata": {
        "id": "Rjkl90znnMbA"
      },
      "outputs": [],
      "source": [
        "import numpy as np\n",
        "\n",
        "def random_list(size):\n",
        "  list = []\n",
        "  for i in range(size):\n",
        "    list.append(np.random.randint(10,50))\n",
        "  return list\n",
        "\n",
        "def sum_list (list):\n",
        "  sum = 0\n",
        "  for i in range(len(list)):\n",
        "    sum = sum + list[i]\n",
        "  return sum"
      ]
    },
    {
      "cell_type": "code",
      "source": [
        "n = int(input(\"Enter an integer between 5 and 15: \"))\n",
        "\n",
        "if((n >= 5) and (n <= 15)):\n",
        "  MyList = random_list(n)\n",
        "  print(MyList)\n",
        "else:\n",
        "  print(\"Please enter an integer between 5 and 15.\")\n"
      ],
      "metadata": {
        "colab": {
          "base_uri": "https://localhost:8080/"
        },
        "id": "ffH0udHsq2Ew",
        "outputId": "eb9c1d8c-8bb7-472d-c216-40a3692ed9d0"
      },
      "execution_count": 16,
      "outputs": [
        {
          "output_type": "stream",
          "name": "stdout",
          "text": [
            "Enter an integer between 5 and 15: 6\n",
            "[35, 37, 46, 19, 19, 37]\n"
          ]
        }
      ]
    },
    {
      "cell_type": "code",
      "source": [
        "sum = sum_list(MyList)\n",
        "print(sum)"
      ],
      "metadata": {
        "colab": {
          "base_uri": "https://localhost:8080/"
        },
        "id": "Miw1TBp7q23G",
        "outputId": "192b065d-2ef6-4edf-cf26-25e5a81debdf"
      },
      "execution_count": 17,
      "outputs": [
        {
          "output_type": "stream",
          "name": "stdout",
          "text": [
            "193\n"
          ]
        }
      ]
    }
  ]
}